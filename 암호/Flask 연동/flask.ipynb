{
 "cells": [
  {
   "cell_type": "code",
   "execution_count": 28,
   "metadata": {
    "ExecuteTime": {
     "end_time": "2021-05-12T11:39:58.435867Z",
     "start_time": "2021-05-12T11:39:57.110212Z"
    }
   },
   "outputs": [],
   "source": [
    "from flask import Flask, request, jsonify\n",
    "from keras.models import load_model\n",
    "from flask.json import JSONEncoder\n",
    "import keras\n",
    "import numpy as np\n",
    "from PIL import Image\n",
    "from tensorflow.keras.applications.inception_v3 import preprocess_input\n",
    "from tensorflow.keras.preprocessing import image\n",
    "import pandas as pd\n",
    "\n",
    "model_best = load_model('C:\\\\Users\\\\PC\\\\Desktop\\\\jupyter\\\\졸업작품\\\\trainedmodel_91class.hdf5',compile = False)\n",
    "\n",
    "food_df = pd.read_csv('C:\\\\Users\\\\PC\\\\Desktop\\\\jupyter\\\\졸업작품\\\\food_list')\n",
    "food_df = food_df.drop('Unnamed: 0', axis=1)\n",
    "food_df.columns = ['food']\n",
    "food_df\n",
    "\n",
    "app = Flask(__name__)\n",
    "\n",
    "@app.route('/') #http://127.0.0.1:5000/\n",
    "def index():\n",
    "    html = '''\n",
    "<html>\n",
    "<head>\n",
    "    <title>이미지넷 91 물체 분류</title>\n",
    "</head>\n",
    "<body>\n",
    "    <center>\n",
    "    이미지넷 1000 물체 분류<br>\n",
    "    <form action=\"/predict\" method=\"post\" enctype=\"multipart/form-data\" id=\"form\">\n",
    "        이미지 파일 <input type=\"file\" id=\"uploadFile\"><br>\n",
    "        <input type=\"submit\" value=\"분류\">\n",
    "    </form>\n",
    "    <span id=\"result\">분류 결과</span> \n",
    "    </center>\n",
    "    <script src=\"http://cdnjs.cloudflare.com/ajax/libs/jquery/2.1.3/jquery.min.js\"></script>\n",
    "    <script type=\"text/javascript\">\n",
    "$(\"#form\").submit(function(event) {\n",
    "    event.preventDefault(); //폼 제출 방지\n",
    "\n",
    "    var formData = new FormData();\n",
    "    formData.append(\"file\", $(\"#uploadFile\").prop(\"files\")[0]);\n",
    "    $.ajax({\n",
    "        type: \"post\",\n",
    "        url: \"/predict\",\n",
    "        data: formData, \n",
    "        contentType: false,\n",
    "        processData: false,\n",
    "        success: function(data){\n",
    "            $(\"#result\").html(data);\n",
    "        }\n",
    "    });\n",
    "});      \n",
    "    </script>        \n",
    "</body>\n",
    "</html>\n",
    "'''\n",
    "\n",
    "    return html\n",
    "\n",
    "@app.route('/predict', methods=['post']) #http://127.0.0.1:5000/predict\n",
    "def predict():\n",
    "    img = Image.open(request.files['file'].stream)\n",
    "    img = img.resize((299, 299))\n",
    "    img = image.img_to_array(img)                    \n",
    "    img = np.expand_dims(img, axis=0)         \n",
    "    img = preprocess_input(img)\n",
    "    img = img.reshape(1, 299, 299, 3)\n",
    "\n",
    "    pred = model_best.predict(img)\n",
    "    index = np.argmax(pred)\n",
    "    pred_value = food_df['food'][index]\n",
    "    \n",
    "    return '{0}'.format(pred_value)"
   ]
  },
  {
   "cell_type": "code",
   "execution_count": null,
   "metadata": {
    "ExecuteTime": {
     "start_time": "2021-05-12T11:39:58.803Z"
    }
   },
   "outputs": [
    {
     "name": "stdout",
     "output_type": "stream",
     "text": [
      " * Serving Flask app '__main__' (lazy loading)\n",
      " * Environment: production\n",
      "\u001b[31m   WARNING: This is a development server. Do not use it in a production deployment.\u001b[0m\n",
      "\u001b[2m   Use a production WSGI server instead.\u001b[0m\n",
      " * Debug mode: off\n"
     ]
    },
    {
     "name": "stderr",
     "output_type": "stream",
     "text": [
      " * Running on http://127.0.0.1:5000/ (Press CTRL+C to quit)\n",
      "127.0.0.1 - - [12/May/2021 20:39:59] \"GET / HTTP/1.1\" 200 -\n",
      "127.0.0.1 - - [12/May/2021 20:40:05] \"POST /predict HTTP/1.1\" 200 -\n",
      "127.0.0.1 - - [12/May/2021 20:40:50] \"POST /predict HTTP/1.1\" 200 -\n",
      "127.0.0.1 - - [12/May/2021 20:41:04] \"POST /predict HTTP/1.1\" 200 -\n",
      "127.0.0.1 - - [12/May/2021 20:42:14] \"POST /predict HTTP/1.1\" 200 -\n",
      "127.0.0.1 - - [12/May/2021 20:42:14] \"POST /predict HTTP/1.1\" 200 -\n",
      "127.0.0.1 - - [12/May/2021 20:42:17] \"POST /predict HTTP/1.1\" 200 -\n",
      "127.0.0.1 - - [12/May/2021 20:42:24] \"POST /predict HTTP/1.1\" 200 -\n",
      "127.0.0.1 - - [12/May/2021 20:42:31] \"POST /predict HTTP/1.1\" 200 -\n"
     ]
    }
   ],
   "source": [
    "app.run(host='127.0.0.1', port=5000, debug=False)"
   ]
  },
  {
   "cell_type": "code",
   "execution_count": null,
   "metadata": {},
   "outputs": [],
   "source": []
  }
 ],
 "metadata": {
  "kernelspec": {
   "display_name": "Python [conda env:flask] *",
   "language": "python",
   "name": "conda-env-flask-py"
  },
  "language_info": {
   "codemirror_mode": {
    "name": "ipython",
    "version": 3
   },
   "file_extension": ".py",
   "mimetype": "text/x-python",
   "name": "python",
   "nbconvert_exporter": "python",
   "pygments_lexer": "ipython3",
   "version": "3.7.10"
  }
 },
 "nbformat": 4,
 "nbformat_minor": 4
}
