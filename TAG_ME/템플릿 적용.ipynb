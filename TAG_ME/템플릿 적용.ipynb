{
 "cells": [
  {
   "cell_type": "code",
   "execution_count": 1,
   "id": "01367934",
   "metadata": {
    "ExecuteTime": {
     "end_time": "2021-05-24T01:58:35.977644Z",
     "start_time": "2021-05-24T01:58:31.123733Z"
    }
   },
   "outputs": [],
   "source": [
    "from flask import Flask, request, jsonify, render_template, send_file\n",
    "from keras.models import load_model\n",
    "from flask.json import JSONEncoder\n",
    "import keras\n",
    "import numpy as np\n",
    "from PIL import Image\n",
    "from tensorflow.keras.applications.inception_v3 import preprocess_input\n",
    "from tensorflow.keras.preprocessing import image\n",
    "import pandas as pd\n",
    "from module import date_num\n",
    "from module import instar_crawling\n",
    "from module import network\n",
    "from module import word_cloud\n",
    "from PIL import Image\n",
    "## remove cache \n",
    "from functools import wraps, update_wrapper\n",
    "from datetime import datetime\n",
    "\n",
    "# 버퍼 지우기\n",
    "import sys\n",
    "sys.stdout.flush()\n",
    "\n",
    "model_best = load_model('model\\\\trainedmodel_91class.hdf5', compile=False)  # 로컬 폴더 맞춰서 수정하기\n",
    "\n",
    "food_df = pd.read_csv('model\\\\food_list')  # 로컬 폴더 맞춰서 수정하기\n",
    "food_df = food_df.drop('Unnamed: 0', axis=1)\n",
    "food_df.columns = ['food']\n",
    "\n",
    "food_name = []\n",
    "\n",
    "# 캐시 삭제\n",
    "# def nocache(view):\n",
    "#   @wraps(view)\n",
    "#   def no_cache(*args, **kwargs):\n",
    "#     response = make_response(view(*args, **kwargs))\n",
    "#     response.headers['Last-Modified'] = datetime.now()\n",
    "#     response.headers['Cache-Control'] = 'no-store, no-cache, must-revalidate, post-check=0, pre-check=0, max-age=0'\n",
    "#     response.headers['Pragma'] = 'no-cache'\n",
    "#     response.headers['Expires'] = '-1'\n",
    "#     return response      \n",
    "#   return update_wrapper(no_cache, view)\n",
    "\n",
    "app = Flask(__name__, static_url_path='/static')\n",
    "\n",
    "@app.route('/', methods=['get','post'])  # http://127.0.0.1:5000/\n",
    "def main():\n",
    "    food_name.clear\n",
    "    return render_template('main.html')\n",
    "\n",
    "@app.route('/predict', methods=['post'])\n",
    "def predict():\n",
    "    img = Image.open(request.files['file'].stream)\n",
    "    img1 = img.resize((299, 299))\n",
    "    img1 = image.img_to_array(img1)\n",
    "    img1 = np.expand_dims(img1, axis=0)\n",
    "    img1 = preprocess_input(img1)\n",
    "    img1 = img1.reshape(1, 299, 299, 3)\n",
    "\n",
    "    pred = model_best.predict(img1)\n",
    "    index = np.argmax(pred)\n",
    "    pred_value = food_df['food'][index]\n",
    "   \n",
    "    food_name.insert(0, pred_value)\n",
    "\n",
    "    return '{0}'.format(pred_value)\n",
    "\n",
    "#이미지 리로딩\n",
    "@app.route('/reloading')\n",
    "def get_image():\n",
    "    filename = 'C://projects/TAG_ME/static/uploads/food.jpg'\n",
    "    return send_file(filename, mimetype='image/jpg')\n",
    "\n",
    "@app.route('/member') \n",
    "def getMember():\n",
    "    return render_template('member.html')\n",
    "\n",
    "@app.route('/result') \n",
    "# @nocache \n",
    "def getResult():\n",
    "    if food_name[0] == '피자':\n",
    "#         instar_crawling.crawling(food_name[0])\n",
    "        date_num.date_num_pl()\n",
    "        network.network_pl() # 피자\n",
    "        recom_tag = word_cloud.cloud_pl()\n",
    "        \n",
    "    elif food_name[0] == '햄버거':\n",
    "#         instar_crawling.crawling(food_name[0])\n",
    "        date_num.date_num_ham()\n",
    "        network.network_ham() # 햄버거\n",
    "        recom_tag = word_cloud.cloud_ham()\n",
    "        \n",
    "    elif food_name[0] == '만두':\n",
    "#         instar_crawling.crawling(food_name[0])\n",
    "        date_num.date_num_ma()\n",
    "        network.network_ma() # 만두\n",
    "        recom_tag = word_cloud.cloud_ma()\n",
    "        \n",
    "    # 찐 실시간 코드\n",
    "    else: \n",
    "        instar_crawling.crawling(food_name[0])\n",
    "        date_num.date_num()\n",
    "        network.network() # 피자\n",
    "        recom_tag = word_cloud.cloud()\n",
    "        \n",
    "    return render_template('result.html', recom_tag = recom_tag)\n",
    "\n",
    "@app.route('/introduce') \n",
    "def getIntroduce():\n",
    "    return render_template('introduce.html')"
   ]
  },
  {
   "cell_type": "code",
   "execution_count": null,
   "id": "6726bcf0",
   "metadata": {
    "ExecuteTime": {
     "start_time": "2021-05-24T01:58:38.039Z"
    }
   },
   "outputs": [
    {
     "name": "stdout",
     "output_type": "stream",
     "text": [
      " * Serving Flask app \"__main__\" (lazy loading)\n",
      " * Environment: production\n",
      "\u001b[31m   WARNING: This is a development server. Do not use it in a production deployment.\u001b[0m\n",
      "\u001b[2m   Use a production WSGI server instead.\u001b[0m\n",
      " * Debug mode: off\n"
     ]
    },
    {
     "name": "stderr",
     "output_type": "stream",
     "text": [
      " * Running on http://127.0.0.1:5000/ (Press CTRL+C to quit)\n",
      "127.0.0.1 - - [30/Sep/2021 21:38:21] \"\u001b[37mGET / HTTP/1.1\u001b[0m\" 200 -\n",
      "127.0.0.1 - - [30/Sep/2021 21:38:26] \"\u001b[37mPOST /predict HTTP/1.1\u001b[0m\" 200 -\n",
      "C:\\Users\\user\\.conda\\envs\\flask\\lib\\site-packages\\pandas\\core\\frame.py:4449: SettingWithCopyWarning: \n",
      "A value is trying to be set on a copy of a slice from a DataFrame\n",
      "\n",
      "See the caveats in the documentation: https://pandas.pydata.org/pandas-docs/stable/user_guide/indexing.html#returning-a-view-versus-a-copy\n",
      "  errors=errors,\n"
     ]
    },
    {
     "data": {
      "image/png": "[encoded data removed]",
      "text/plain": [
       "<Figure size 720x720 with 1 Axes>"
      ]
     },
     "metadata": {
      "needs_background": "light"
     },
     "output_type": "display_data"
    },
    {
     "name": "stderr",
     "output_type": "stream",
     "text": [
      "127.0.0.1 - - [30/Sep/2021 21:38:27] \"\u001b[37mGET /result HTTP/1.1\u001b[0m\" 200 -\n"
     ]
    }
   ],
   "source": [
    "app.run(host='127.0.0.1', port=5000, debug=False)\n",
    "## Jupyter Notebook에서는 debug시 에러가 뜸"
   ]
  },
  {
   "cell_type": "code",
   "execution_count": null,
   "id": "7930c271",
   "metadata": {},
   "outputs": [],
   "source": []
  }
 ],
 "metadata": {
  "kernelspec": {
   "display_name": "Python [conda env:.conda-flask] *",
   "language": "python",
   "name": "conda-env-.conda-flask-py"
  },
  "language_info": {
   "codemirror_mode": {
    "name": "ipython",
    "version": 3
   },
   "file_extension": ".py",
   "mimetype": "text/x-python",
   "name": "python",
   "nbconvert_exporter": "python",
   "pygments_lexer": "ipython3",
   "version": "3.7.10"
  }
 },
 "nbformat": 4,
 "nbformat_minor": 5
}
